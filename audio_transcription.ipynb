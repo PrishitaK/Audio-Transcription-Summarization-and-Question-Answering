{
  "nbformat": 4,
  "nbformat_minor": 0,
  "metadata": {
    "colab": {
      "provenance": []
    },
    "kernelspec": {
      "name": "python3",
      "display_name": "Python 3"
    },
    "language_info": {
      "name": "python"
    }
  },
  "cells": [
    {
      "cell_type": "code",
      "execution_count": null,
      "metadata": {
        "id": "3xKHXk7RbuEl"
      },
      "outputs": [],
      "source": [
        "from vosk import Model, KaldiRecognizer\n",
        "from pydub import AudioSegment\n",
        "import json\n",
        "import subprocess\n",
        "from fpdf import FPDF\n",
        "from tqdm import tqdm\n",
        "import pandas as pd\n",
        "import numpy as np\n",
        "import os"
      ]
    },
    {
      "cell_type": "code",
      "source": [
        "path_to_directory = 'PATH_TO_YOUR_DIRECTORY'"
      ],
      "metadata": {
        "id": "9eP5Fv2tTrcj"
      },
      "execution_count": null,
      "outputs": []
    },
    {
      "cell_type": "code",
      "execution_count": null,
      "metadata": {
        "id": "oujZZk-BsAbT"
      },
      "outputs": [],
      "source": [
        "#Function to create folders with the same name as the individual episodes to store the transcript and summary files as pdfs\n",
        "def make_folders(title):\n",
        "  out = []\n",
        "  for f in tqdm(os.listdir(path_to_directory+title)):\n",
        "    if 'mp3' in f:\n",
        "      try:\n",
        "        os.mkdir(path_to_directory + title + '/' + f.replace('.mp3', ''))\n",
        "        out.append(f.replace('.mp3', ''))\n",
        "      except:\n",
        "        print(f)\n",
        "  return out"
      ]
    },
    {
      "cell_type": "code",
      "execution_count": null,
      "metadata": {
        "id": "0JKBT0C_YvV0"
      },
      "outputs": [],
      "source": [
        "info_all_podcasts = pd.read_csv(path_to_directory+'podcast.csv')\n",
        "titles = info_all_podcasts['Show'].unique().tolist()"
      ]
    },
    {
      "cell_type": "code",
      "execution_count": null,
      "metadata": {
        "id": "p0cgkEEsZWrE"
      },
      "outputs": [],
      "source": [
        "episode_folders = []\n",
        "for x in titles:\n",
        "  folders = make_folders(x)\n",
        "  episode_folders.append(folders)"
      ]
    },
    {
      "cell_type": "code",
      "execution_count": null,
      "metadata": {
        "id": "j6fHnHvza_-Y"
      },
      "outputs": [],
      "source": [
        "FRAME_RATE = 16000\n",
        "CHANNELS = 1"
      ]
    },
    {
      "cell_type": "code",
      "execution_count": null,
      "metadata": {
        "id": "Y8J6f7LCcCVe"
      },
      "outputs": [],
      "source": [
        "#Speech Recognition model from vosk library\n",
        "model = Model(model_name = 'vosk-model-en-us-0.42-gigaspeech')"
      ]
    },
    {
      "cell_type": "code",
      "execution_count": null,
      "metadata": {
        "id": "nPvKsjxNcFeN"
      },
      "outputs": [],
      "source": [
        "def voiceRecognition(model, file):\n",
        "  rec = KaldiRecognizer(model, FRAME_RATE)\n",
        "  rec.SetWords(True)\n",
        "\n",
        "  mp3 = AudioSegment.from_mp3(file)\n",
        "  mp3 = mp3.set_channels(CHANNELS).set_frame_rate(FRAME_RATE)\n",
        "\n",
        "  step = 45000\n",
        "  transcript = \"\"\n",
        "\n",
        "  for i in tqdm(range(0, len(mp3), step)):\n",
        "    segment = mp3[i : i+step]\n",
        "    rec.AcceptWaveform(segment.raw_data)\n",
        "    result = rec.Result()\n",
        "\n",
        "    text = json.loads(result)['text']\n",
        "    transcript += text\n",
        "\n",
        "  return transcript"
      ]
    },
    {
      "cell_type": "code",
      "execution_count": null,
      "metadata": {
        "id": "PqpCWjrmdUxW"
      },
      "outputs": [],
      "source": [
        "for title in tqdm(titles):\n",
        "  for f in tqdm(os.listdir(path_to_directory+title)):\n",
        "    if 'mp3' in f:\n",
        "      transcript = voiceRecognition(model, path_to_directory+title+'/'+f)\n",
        "      pdf = FPDF()\n",
        "      pdf.add_page()\n",
        "      pdf.set_font('Arial', size = 12)\n",
        "      pdf.multi_cell(0, 10, txt = transcript)\n",
        "      pdf.output(path_to_directory+title+'/'+f.replace('.mp3','') + '/' + f.replace('.mp3', '.pdf'))"
      ]
    }
  ]
}