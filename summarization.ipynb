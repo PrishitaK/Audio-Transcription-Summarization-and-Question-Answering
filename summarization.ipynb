{
  "nbformat": 4,
  "nbformat_minor": 0,
  "metadata": {
    "colab": {
      "provenance": []
    },
    "kernelspec": {
      "name": "python3",
      "display_name": "Python 3"
    },
    "language_info": {
      "name": "python"
    }
  },
  "cells": [
    {
      "cell_type": "code",
      "execution_count": null,
      "metadata": {
        "id": "nRs4CtRwgem9"
      },
      "outputs": [],
      "source": [
        "import torch\n",
        "import transformers\n",
        "from transformers import pipeline\n",
        "from langchain.document_loaders import UnstructuredFileLoader\n",
        "from langchain.text_splitter import CharacterTextSplitter\n",
        "import os\n",
        "from tqdm import tqdm\n",
        "from fpdf import FPDF\n",
        "import pandas as pd"
      ]
    },
    {
      "cell_type": "code",
      "source": [
        "def summarizer(summarization, file):\n",
        "  #Loading the transcripted files\n",
        "  loader = UnstructuredFileLoader(file)\n",
        "  document = loader.load()\n",
        "\n",
        "  #Splitting the large documents into smaller chunks\n",
        "  text_splitter = CharacterTextSplitter(chunk_size = 1000, chunk_overlap = 0)\n",
        "  texts = text_splitter.split_documents(document)\n",
        "\n",
        "  #Converting the document type into string and storing it in a list\n",
        "  docs = []\n",
        "  for i in range(0, len(texts)):\n",
        "    docs.append(texts[i].page_content)\n",
        "\n",
        "  #Summarizing each chunk of the document\n",
        "  summaries = summarization(docs)\n",
        "  summary = \"\".join(d['summary_text'] for d in summaries)\n",
        "\n",
        "  return summary"
      ],
      "metadata": {
        "id": "pbbooskxbqkI"
      },
      "execution_count": null,
      "outputs": []
    },
    {
      "cell_type": "code",
      "source": [
        "summarization = pipeline('summarization')"
      ],
      "metadata": {
        "id": "zgSd3Eczlz5X"
      },
      "execution_count": null,
      "outputs": []
    },
    {
      "cell_type": "code",
      "source": [
        "info_all_podcasts = pd.read_csv(path_to_directory+'podcast.csv')\n",
        "titles = info_all_podcasts['Show'].unique().tolist()"
      ],
      "metadata": {
        "id": "gFO9qoWbhnzB"
      },
      "execution_count": null,
      "outputs": []
    },
    {
      "cell_type": "code",
      "source": [
        "for title in tqdm(titles):\n",
        "  for f in tqdm(os.listdir(path_to_directory+title)):\n",
        "    if 'mp3' not in f:\n",
        "      for transcript in os.listdir(path_to_directory+title+'/'+f):\n",
        "        summary = summarizer(summarization, path_to_directory+title+'/'+f+'/'+transcript)\n",
        "        pdf = FPDF()\n",
        "        pdf.add_page()\n",
        "        pdf.set_font('Arial', size = 12)\n",
        "        pdf.multi_cell(0, 10, txt = summary.encode('latin-1', 'replace').decode('latin-1'))\n",
        "        pdf.output(path_to_directory+title+'/'+f+'/'+transcript.replace('.pdf', '_summary.pdf'))"
      ],
      "metadata": {
        "id": "-Y_RlGQOcmma"
      },
      "execution_count": null,
      "outputs": []
    }
  ]
}