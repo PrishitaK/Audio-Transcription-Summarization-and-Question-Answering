{
  "nbformat": 4,
  "nbformat_minor": 0,
  "metadata": {
    "colab": {
      "provenance": []
    },
    "kernelspec": {
      "name": "python3",
      "display_name": "Python 3"
    },
    "language_info": {
      "name": "python"
    }
  },
  "cells": [
    {
      "cell_type": "code",
      "source": [
        "from langchain.vectorstores import FAISS\n",
        "from langchain.chains.question_answering import load_qa_chain\n",
        "from langchain.embeddings import HuggingFaceEmbeddings\n",
        "from langchain.chains import RetrievalQA\n",
        "from langchain.document_loaders import UnstructuredFileLoader\n",
        "from langchain.chains import RetrievalQAWithSourcesChain\n",
        "from transformers import pipeline\n",
        "from transformers import AutoTokenizer, AutoModelForCausalLM\n",
        "from langchain import HuggingFacePipeline\n",
        "from langchain.text_splitter import CharacterTextSplitter\n",
        "import textwrap\n",
        "import os\n",
        "import torch"
      ],
      "metadata": {
        "id": "8s5SaORLT2Rk"
      },
      "execution_count": null,
      "outputs": []
    },
    {
      "cell_type": "code",
      "source": [
        "os.environ['HuggingFaceHub_API_Token'] = 'YOOUR_HUGGING_FACE_API_KEY'"
      ],
      "metadata": {
        "id": "971HEoEqUSQT"
      },
      "execution_count": null,
      "outputs": []
    },
    {
      "cell_type": "code",
      "source": [
        "!huggingface-cli login"
      ],
      "metadata": {
        "id": "QGHJglvVhemp"
      },
      "execution_count": null,
      "outputs": []
    },
    {
      "cell_type": "code",
      "source": [
        "loader = UnstructuredFileLoader('PATH_TO_YOUR_FOLDER')\n",
        "documents = loader.load()"
      ],
      "metadata": {
        "id": "rI9Yx8zUUc4Z"
      },
      "execution_count": null,
      "outputs": []
    },
    {
      "cell_type": "code",
      "source": [
        "text_splitter=CharacterTextSplitter(separator='\\n',\n",
        "                                    chunk_size=1000,\n",
        "                                    chunk_overlap=50)\n",
        "text_chunks=text_splitter.split_documents(documents)"
      ],
      "metadata": {
        "id": "obtIfr9PU4aA"
      },
      "execution_count": null,
      "outputs": []
    },
    {
      "cell_type": "code",
      "source": [
        "embeddings = HuggingFaceEmbeddings(model_name='sentence-transformers/all-MiniLM-L6-v2',model_kwargs={'device': 'cuda'})"
      ],
      "metadata": {
        "id": "YwEloXe4U_k8"
      },
      "execution_count": null,
      "outputs": []
    },
    {
      "cell_type": "code",
      "source": [
        "vectorstore=FAISS.from_documents(text_chunks, embeddings)"
      ],
      "metadata": {
        "id": "_AIU5xyjVAel"
      },
      "execution_count": null,
      "outputs": []
    },
    {
      "cell_type": "code",
      "source": [
        "tokenizer = AutoTokenizer.from_pretrained(\"meta-llama/Llama-2-7b-chat-hf\")"
      ],
      "metadata": {
        "id": "MShtPt7bVDhQ"
      },
      "execution_count": null,
      "outputs": []
    },
    {
      "cell_type": "code",
      "source": [
        "model = AutoModelForCausalLM.from_pretrained(\"meta-llama/Llama-2-7b-chat-hf\",\n",
        "                                             device_map='auto',\n",
        "                                             torch_dtype=torch.float16,\n",
        "                                             use_auth_token=True,\n",
        "                                             load_in_8bit=True,\n",
        "                                              #load_in_4bit=True\n",
        "                                             )"
      ],
      "metadata": {
        "id": "TgM-9pwqVHEm"
      },
      "execution_count": null,
      "outputs": []
    },
    {
      "cell_type": "code",
      "source": [
        "pipeline = pipeline(\"text-generation\",\n",
        "                model=model,\n",
        "                tokenizer= tokenizer,\n",
        "                torch_dtype=torch.bfloat16,\n",
        "                device_map=\"auto\",\n",
        "                max_new_tokens = 1024,\n",
        "                do_sample=True,\n",
        "                top_k=10,\n",
        "                num_return_sequences=1,\n",
        "                eos_token_id=tokenizer.eos_token_id\n",
        "                )"
      ],
      "metadata": {
        "id": "wRvonp6cVJNr"
      },
      "execution_count": null,
      "outputs": []
    },
    {
      "cell_type": "code",
      "source": [
        "llm=HuggingFacePipeline(pipeline=pipeline, model_kwargs={'temperature':0.3})"
      ],
      "metadata": {
        "id": "mTFUgM-VVMNT"
      },
      "execution_count": null,
      "outputs": []
    },
    {
      "cell_type": "code",
      "source": [
        "chain =  RetrievalQA.from_chain_type(llm=llm, chain_type = \"stuff\", return_source_documents=False, retriever=vectorstore.as_retriever())"
      ],
      "metadata": {
        "id": "UQYtlfV8VNux"
      },
      "execution_count": null,
      "outputs": []
    },
    {
      "cell_type": "code",
      "source": [
        "query = \"YOUR_QUESTION\"\n",
        "result=chain({\"query\": query}, return_only_outputs=True)\n",
        "wrapped_text = textwrap.fill(result['result'], width=500)\n",
        "wrapped_text"
      ],
      "metadata": {
        "id": "yseyf0EMVT1l"
      },
      "execution_count": null,
      "outputs": []
    },
    {
      "cell_type": "code",
      "source": [
        "result['result']"
      ],
      "metadata": {
        "id": "qf276zOYkf6X"
      },
      "execution_count": null,
      "outputs": []
    }
  ]
}